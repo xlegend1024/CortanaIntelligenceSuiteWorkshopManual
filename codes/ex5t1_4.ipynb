val summary = sqlContext.sql("SELECT  OriginAirportCode, OriginLatLong, Month, Day, Hour, Sum(DelayPredicted) NumDelays, Avg(DelayProbability) AvgDelayProbability FROM FlightDelays WHERE Month = 4 GROUP BY OriginAirportCode, OriginLatLong, Month, Day, Hour Having Sum(DelayPredicted) > 1")

summary.write.mode("overwrite").saveAsTable("FlightDelaysSummary")
